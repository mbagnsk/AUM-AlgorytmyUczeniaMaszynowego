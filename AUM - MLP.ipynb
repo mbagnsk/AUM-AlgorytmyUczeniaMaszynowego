{
 "cells": [
  {
   "cell_type": "markdown",
   "id": "a92ad532",
   "metadata": {},
   "source": [
    "# Wczytywanie danych"
   ]
  },
  {
   "cell_type": "code",
   "execution_count": 4,
   "id": "7629782b",
   "metadata": {},
   "outputs": [],
   "source": [
    "# Read csv file\n",
    "\n",
    "import numpy as np\n",
    "import pandas as pd\n",
    "import sklearn as sk\n",
    "\n",
    "file_data = pd.read_csv('credit_data.csv')\n",
    "\n",
    "# Drops unnecessary first column containing original row numbers\n",
    "credit_data = file_data.drop('Unnamed: 0', axis=1)"
   ]
  },
  {
   "cell_type": "code",
   "execution_count": 5,
   "id": "f6bc416c",
   "metadata": {},
   "outputs": [
    {
     "data": {
      "text/html": [
       "<div>\n",
       "<style scoped>\n",
       "    .dataframe tbody tr th:only-of-type {\n",
       "        vertical-align: middle;\n",
       "    }\n",
       "\n",
       "    .dataframe tbody tr th {\n",
       "        vertical-align: top;\n",
       "    }\n",
       "\n",
       "    .dataframe thead th {\n",
       "        text-align: right;\n",
       "    }\n",
       "</style>\n",
       "<table border=\"1\" class=\"dataframe\">\n",
       "  <thead>\n",
       "    <tr style=\"text-align: right;\">\n",
       "      <th></th>\n",
       "      <th>Age</th>\n",
       "      <th>Sex</th>\n",
       "      <th>Job</th>\n",
       "      <th>Housing</th>\n",
       "      <th>Saving accounts</th>\n",
       "      <th>Checking account</th>\n",
       "      <th>Credit amount</th>\n",
       "      <th>Duration</th>\n",
       "      <th>Purpose</th>\n",
       "      <th>Risk</th>\n",
       "    </tr>\n",
       "  </thead>\n",
       "  <tbody>\n",
       "    <tr>\n",
       "      <th>0</th>\n",
       "      <td>67</td>\n",
       "      <td>male</td>\n",
       "      <td>2</td>\n",
       "      <td>own</td>\n",
       "      <td>NaN</td>\n",
       "      <td>little</td>\n",
       "      <td>1169</td>\n",
       "      <td>6</td>\n",
       "      <td>radio/TV</td>\n",
       "      <td>good</td>\n",
       "    </tr>\n",
       "    <tr>\n",
       "      <th>1</th>\n",
       "      <td>22</td>\n",
       "      <td>female</td>\n",
       "      <td>2</td>\n",
       "      <td>own</td>\n",
       "      <td>little</td>\n",
       "      <td>moderate</td>\n",
       "      <td>5951</td>\n",
       "      <td>48</td>\n",
       "      <td>radio/TV</td>\n",
       "      <td>bad</td>\n",
       "    </tr>\n",
       "    <tr>\n",
       "      <th>2</th>\n",
       "      <td>49</td>\n",
       "      <td>male</td>\n",
       "      <td>1</td>\n",
       "      <td>own</td>\n",
       "      <td>little</td>\n",
       "      <td>NaN</td>\n",
       "      <td>2096</td>\n",
       "      <td>12</td>\n",
       "      <td>education</td>\n",
       "      <td>good</td>\n",
       "    </tr>\n",
       "    <tr>\n",
       "      <th>3</th>\n",
       "      <td>45</td>\n",
       "      <td>male</td>\n",
       "      <td>2</td>\n",
       "      <td>free</td>\n",
       "      <td>little</td>\n",
       "      <td>little</td>\n",
       "      <td>7882</td>\n",
       "      <td>42</td>\n",
       "      <td>furniture/equipment</td>\n",
       "      <td>good</td>\n",
       "    </tr>\n",
       "    <tr>\n",
       "      <th>4</th>\n",
       "      <td>53</td>\n",
       "      <td>male</td>\n",
       "      <td>2</td>\n",
       "      <td>free</td>\n",
       "      <td>little</td>\n",
       "      <td>little</td>\n",
       "      <td>4870</td>\n",
       "      <td>24</td>\n",
       "      <td>car</td>\n",
       "      <td>bad</td>\n",
       "    </tr>\n",
       "  </tbody>\n",
       "</table>\n",
       "</div>"
      ],
      "text/plain": [
       "   Age     Sex  Job Housing Saving accounts Checking account  Credit amount  \\\n",
       "0   67    male    2     own             NaN           little           1169   \n",
       "1   22  female    2     own          little         moderate           5951   \n",
       "2   49    male    1     own          little              NaN           2096   \n",
       "3   45    male    2    free          little           little           7882   \n",
       "4   53    male    2    free          little           little           4870   \n",
       "\n",
       "   Duration              Purpose  Risk  \n",
       "0         6             radio/TV  good  \n",
       "1        48             radio/TV   bad  \n",
       "2        12            education  good  \n",
       "3        42  furniture/equipment  good  \n",
       "4        24                  car   bad  "
      ]
     },
     "execution_count": 5,
     "metadata": {},
     "output_type": "execute_result"
    }
   ],
   "source": [
    "# Shows first five rows of data from file\n",
    "credit_data.head()"
   ]
  },
  {
   "cell_type": "markdown",
   "id": "07d187e8",
   "metadata": {},
   "source": [
    "# Procesowanie danych"
   ]
  },
  {
   "cell_type": "code",
   "execution_count": 6,
   "id": "06510224",
   "metadata": {},
   "outputs": [],
   "source": [
    "# One hot and dummy encoding\n",
    "\n",
    "def one_hot(df, nan = False):\n",
    "    original = list(df.columns)\n",
    "    category = [col for col in df.columns if df[col].dtype == 'object']\n",
    "    df = pd.get_dummies(df, columns = category, dummy_na = nan, drop_first = True)\n",
    "    new_columns = [c for c in df.columns if c not in original]\n",
    "    return df, new_columns"
   ]
  },
  {
   "cell_type": "code",
   "execution_count": 7,
   "id": "2451b3f0",
   "metadata": {},
   "outputs": [],
   "source": [
    "credit_data['Saving accounts'] = credit_data['Saving accounts'].fillna('no_data')\n",
    "credit_data['Checking account'] = credit_data['Checking account'].fillna('no_data')"
   ]
  },
  {
   "cell_type": "code",
   "execution_count": 8,
   "id": "c4c2b3f8",
   "metadata": {
    "scrolled": true
   },
   "outputs": [
    {
     "data": {
      "text/html": [
       "<div>\n",
       "<style scoped>\n",
       "    .dataframe tbody tr th:only-of-type {\n",
       "        vertical-align: middle;\n",
       "    }\n",
       "\n",
       "    .dataframe tbody tr th {\n",
       "        vertical-align: top;\n",
       "    }\n",
       "\n",
       "    .dataframe thead th {\n",
       "        text-align: right;\n",
       "    }\n",
       "</style>\n",
       "<table border=\"1\" class=\"dataframe\">\n",
       "  <thead>\n",
       "    <tr style=\"text-align: right;\">\n",
       "      <th></th>\n",
       "      <th>Age</th>\n",
       "      <th>Sex</th>\n",
       "      <th>Job</th>\n",
       "      <th>Housing</th>\n",
       "      <th>Saving accounts</th>\n",
       "      <th>Checking account</th>\n",
       "      <th>Credit amount</th>\n",
       "      <th>Duration</th>\n",
       "      <th>Purpose</th>\n",
       "      <th>Risk</th>\n",
       "      <th>...</th>\n",
       "      <th>Housing_rent</th>\n",
       "      <th>Savings_moderate</th>\n",
       "      <th>Savings_no_data</th>\n",
       "      <th>Savings_quite rich</th>\n",
       "      <th>Savings_rich</th>\n",
       "      <th>Risk_bad</th>\n",
       "      <th>Risk_good</th>\n",
       "      <th>Checking_moderate</th>\n",
       "      <th>Checking_no_data</th>\n",
       "      <th>Checking_rich</th>\n",
       "    </tr>\n",
       "  </thead>\n",
       "  <tbody>\n",
       "    <tr>\n",
       "      <th>0</th>\n",
       "      <td>67</td>\n",
       "      <td>male</td>\n",
       "      <td>2</td>\n",
       "      <td>own</td>\n",
       "      <td>no_data</td>\n",
       "      <td>little</td>\n",
       "      <td>1169</td>\n",
       "      <td>6</td>\n",
       "      <td>radio/TV</td>\n",
       "      <td>good</td>\n",
       "      <td>...</td>\n",
       "      <td>0</td>\n",
       "      <td>0</td>\n",
       "      <td>1</td>\n",
       "      <td>0</td>\n",
       "      <td>0</td>\n",
       "      <td>0</td>\n",
       "      <td>1</td>\n",
       "      <td>0</td>\n",
       "      <td>0</td>\n",
       "      <td>0</td>\n",
       "    </tr>\n",
       "    <tr>\n",
       "      <th>1</th>\n",
       "      <td>22</td>\n",
       "      <td>female</td>\n",
       "      <td>2</td>\n",
       "      <td>own</td>\n",
       "      <td>little</td>\n",
       "      <td>moderate</td>\n",
       "      <td>5951</td>\n",
       "      <td>48</td>\n",
       "      <td>radio/TV</td>\n",
       "      <td>bad</td>\n",
       "      <td>...</td>\n",
       "      <td>0</td>\n",
       "      <td>0</td>\n",
       "      <td>0</td>\n",
       "      <td>0</td>\n",
       "      <td>0</td>\n",
       "      <td>1</td>\n",
       "      <td>0</td>\n",
       "      <td>1</td>\n",
       "      <td>0</td>\n",
       "      <td>0</td>\n",
       "    </tr>\n",
       "    <tr>\n",
       "      <th>2</th>\n",
       "      <td>49</td>\n",
       "      <td>male</td>\n",
       "      <td>1</td>\n",
       "      <td>own</td>\n",
       "      <td>little</td>\n",
       "      <td>no_data</td>\n",
       "      <td>2096</td>\n",
       "      <td>12</td>\n",
       "      <td>education</td>\n",
       "      <td>good</td>\n",
       "      <td>...</td>\n",
       "      <td>0</td>\n",
       "      <td>0</td>\n",
       "      <td>0</td>\n",
       "      <td>0</td>\n",
       "      <td>0</td>\n",
       "      <td>0</td>\n",
       "      <td>1</td>\n",
       "      <td>0</td>\n",
       "      <td>1</td>\n",
       "      <td>0</td>\n",
       "    </tr>\n",
       "    <tr>\n",
       "      <th>3</th>\n",
       "      <td>45</td>\n",
       "      <td>male</td>\n",
       "      <td>2</td>\n",
       "      <td>free</td>\n",
       "      <td>little</td>\n",
       "      <td>little</td>\n",
       "      <td>7882</td>\n",
       "      <td>42</td>\n",
       "      <td>furniture/equipment</td>\n",
       "      <td>good</td>\n",
       "      <td>...</td>\n",
       "      <td>0</td>\n",
       "      <td>0</td>\n",
       "      <td>0</td>\n",
       "      <td>0</td>\n",
       "      <td>0</td>\n",
       "      <td>0</td>\n",
       "      <td>1</td>\n",
       "      <td>0</td>\n",
       "      <td>0</td>\n",
       "      <td>0</td>\n",
       "    </tr>\n",
       "    <tr>\n",
       "      <th>4</th>\n",
       "      <td>53</td>\n",
       "      <td>male</td>\n",
       "      <td>2</td>\n",
       "      <td>free</td>\n",
       "      <td>little</td>\n",
       "      <td>little</td>\n",
       "      <td>4870</td>\n",
       "      <td>24</td>\n",
       "      <td>car</td>\n",
       "      <td>bad</td>\n",
       "      <td>...</td>\n",
       "      <td>0</td>\n",
       "      <td>0</td>\n",
       "      <td>0</td>\n",
       "      <td>0</td>\n",
       "      <td>0</td>\n",
       "      <td>1</td>\n",
       "      <td>0</td>\n",
       "      <td>0</td>\n",
       "      <td>0</td>\n",
       "      <td>0</td>\n",
       "    </tr>\n",
       "  </tbody>\n",
       "</table>\n",
       "<p>5 rows × 29 columns</p>\n",
       "</div>"
      ],
      "text/plain": [
       "   Age     Sex  Job Housing Saving accounts Checking account  Credit amount  \\\n",
       "0   67    male    2     own         no_data           little           1169   \n",
       "1   22  female    2     own          little         moderate           5951   \n",
       "2   49    male    1     own          little          no_data           2096   \n",
       "3   45    male    2    free          little           little           7882   \n",
       "4   53    male    2    free          little           little           4870   \n",
       "\n",
       "   Duration              Purpose  Risk  ...  Housing_rent  Savings_moderate  \\\n",
       "0         6             radio/TV  good  ...             0                 0   \n",
       "1        48             radio/TV   bad  ...             0                 0   \n",
       "2        12            education  good  ...             0                 0   \n",
       "3        42  furniture/equipment  good  ...             0                 0   \n",
       "4        24                  car   bad  ...             0                 0   \n",
       "\n",
       "   Savings_no_data  Savings_quite rich  Savings_rich  Risk_bad  Risk_good  \\\n",
       "0                1                   0             0         0          1   \n",
       "1                0                   0             0         1          0   \n",
       "2                0                   0             0         0          1   \n",
       "3                0                   0             0         0          1   \n",
       "4                0                   0             0         1          0   \n",
       "\n",
       "   Checking_moderate  Checking_no_data  Checking_rich  \n",
       "0                  0                 0              0  \n",
       "1                  1                 0              0  \n",
       "2                  0                 1              0  \n",
       "3                  0                 0              0  \n",
       "4                  0                 0              0  \n",
       "\n",
       "[5 rows x 29 columns]"
      ]
     },
     "execution_count": 8,
     "metadata": {},
     "output_type": "execute_result"
    }
   ],
   "source": [
    "credit_data = credit_data.merge(pd.get_dummies(credit_data['Purpose'], drop_first=True, prefix='Purpose'), left_index=True, right_index=True)\n",
    "credit_data = credit_data.merge(pd.get_dummies(credit_data['Sex'], drop_first=True, prefix='Sex'), left_index=True, right_index=True)\n",
    "credit_data = credit_data.merge(pd.get_dummies(credit_data['Housing'], drop_first=True, prefix='Housing'), left_index=True, right_index=True)\n",
    "credit_data = credit_data.merge(pd.get_dummies(credit_data[\"Saving accounts\"], drop_first=True, prefix='Savings'), left_index=True, right_index=True)\n",
    "credit_data = credit_data.merge(pd.get_dummies(credit_data.Risk, prefix='Risk'), left_index=True, right_index=True)\n",
    "credit_data = credit_data.merge(pd.get_dummies(credit_data[\"Checking account\"], drop_first=True, prefix='Checking'), left_index=True, right_index=True)\n",
    "\n",
    "credit_data.head()"
   ]
  },
  {
   "cell_type": "code",
   "execution_count": 9,
   "id": "fe46e770",
   "metadata": {},
   "outputs": [],
   "source": [
    "# Delete these data columns for models and use certain one-hot values instead\n",
    "\n",
    "del credit_data[\"Saving accounts\"]\n",
    "del credit_data[\"Checking account\"]\n",
    "del credit_data[\"Purpose\"]\n",
    "del credit_data[\"Sex\"]\n",
    "del credit_data[\"Housing\"]\n",
    "del credit_data[\"Risk\"]\n",
    "del credit_data['Risk_good']"
   ]
  },
  {
   "cell_type": "code",
   "execution_count": 10,
   "id": "b524fab0",
   "metadata": {},
   "outputs": [
    {
     "data": {
      "text/html": [
       "<div>\n",
       "<style scoped>\n",
       "    .dataframe tbody tr th:only-of-type {\n",
       "        vertical-align: middle;\n",
       "    }\n",
       "\n",
       "    .dataframe tbody tr th {\n",
       "        vertical-align: top;\n",
       "    }\n",
       "\n",
       "    .dataframe thead th {\n",
       "        text-align: right;\n",
       "    }\n",
       "</style>\n",
       "<table border=\"1\" class=\"dataframe\">\n",
       "  <thead>\n",
       "    <tr style=\"text-align: right;\">\n",
       "      <th></th>\n",
       "      <th>Age</th>\n",
       "      <th>Job</th>\n",
       "      <th>Credit amount</th>\n",
       "      <th>Duration</th>\n",
       "      <th>Purpose_car</th>\n",
       "      <th>Purpose_domestic appliances</th>\n",
       "      <th>Purpose_education</th>\n",
       "      <th>Purpose_furniture/equipment</th>\n",
       "      <th>Purpose_radio/TV</th>\n",
       "      <th>Purpose_repairs</th>\n",
       "      <th>...</th>\n",
       "      <th>Housing_own</th>\n",
       "      <th>Housing_rent</th>\n",
       "      <th>Savings_moderate</th>\n",
       "      <th>Savings_no_data</th>\n",
       "      <th>Savings_quite rich</th>\n",
       "      <th>Savings_rich</th>\n",
       "      <th>Risk_bad</th>\n",
       "      <th>Checking_moderate</th>\n",
       "      <th>Checking_no_data</th>\n",
       "      <th>Checking_rich</th>\n",
       "    </tr>\n",
       "  </thead>\n",
       "  <tbody>\n",
       "    <tr>\n",
       "      <th>0</th>\n",
       "      <td>67</td>\n",
       "      <td>2</td>\n",
       "      <td>7.063904</td>\n",
       "      <td>6</td>\n",
       "      <td>0</td>\n",
       "      <td>0</td>\n",
       "      <td>0</td>\n",
       "      <td>0</td>\n",
       "      <td>1</td>\n",
       "      <td>0</td>\n",
       "      <td>...</td>\n",
       "      <td>1</td>\n",
       "      <td>0</td>\n",
       "      <td>0</td>\n",
       "      <td>1</td>\n",
       "      <td>0</td>\n",
       "      <td>0</td>\n",
       "      <td>0</td>\n",
       "      <td>0</td>\n",
       "      <td>0</td>\n",
       "      <td>0</td>\n",
       "    </tr>\n",
       "    <tr>\n",
       "      <th>1</th>\n",
       "      <td>22</td>\n",
       "      <td>2</td>\n",
       "      <td>8.691315</td>\n",
       "      <td>48</td>\n",
       "      <td>0</td>\n",
       "      <td>0</td>\n",
       "      <td>0</td>\n",
       "      <td>0</td>\n",
       "      <td>1</td>\n",
       "      <td>0</td>\n",
       "      <td>...</td>\n",
       "      <td>1</td>\n",
       "      <td>0</td>\n",
       "      <td>0</td>\n",
       "      <td>0</td>\n",
       "      <td>0</td>\n",
       "      <td>0</td>\n",
       "      <td>1</td>\n",
       "      <td>1</td>\n",
       "      <td>0</td>\n",
       "      <td>0</td>\n",
       "    </tr>\n",
       "    <tr>\n",
       "      <th>2</th>\n",
       "      <td>49</td>\n",
       "      <td>1</td>\n",
       "      <td>7.647786</td>\n",
       "      <td>12</td>\n",
       "      <td>0</td>\n",
       "      <td>0</td>\n",
       "      <td>1</td>\n",
       "      <td>0</td>\n",
       "      <td>0</td>\n",
       "      <td>0</td>\n",
       "      <td>...</td>\n",
       "      <td>1</td>\n",
       "      <td>0</td>\n",
       "      <td>0</td>\n",
       "      <td>0</td>\n",
       "      <td>0</td>\n",
       "      <td>0</td>\n",
       "      <td>0</td>\n",
       "      <td>0</td>\n",
       "      <td>1</td>\n",
       "      <td>0</td>\n",
       "    </tr>\n",
       "    <tr>\n",
       "      <th>3</th>\n",
       "      <td>45</td>\n",
       "      <td>2</td>\n",
       "      <td>8.972337</td>\n",
       "      <td>42</td>\n",
       "      <td>0</td>\n",
       "      <td>0</td>\n",
       "      <td>0</td>\n",
       "      <td>1</td>\n",
       "      <td>0</td>\n",
       "      <td>0</td>\n",
       "      <td>...</td>\n",
       "      <td>0</td>\n",
       "      <td>0</td>\n",
       "      <td>0</td>\n",
       "      <td>0</td>\n",
       "      <td>0</td>\n",
       "      <td>0</td>\n",
       "      <td>0</td>\n",
       "      <td>0</td>\n",
       "      <td>0</td>\n",
       "      <td>0</td>\n",
       "    </tr>\n",
       "    <tr>\n",
       "      <th>4</th>\n",
       "      <td>53</td>\n",
       "      <td>2</td>\n",
       "      <td>8.490849</td>\n",
       "      <td>24</td>\n",
       "      <td>1</td>\n",
       "      <td>0</td>\n",
       "      <td>0</td>\n",
       "      <td>0</td>\n",
       "      <td>0</td>\n",
       "      <td>0</td>\n",
       "      <td>...</td>\n",
       "      <td>0</td>\n",
       "      <td>0</td>\n",
       "      <td>0</td>\n",
       "      <td>0</td>\n",
       "      <td>0</td>\n",
       "      <td>0</td>\n",
       "      <td>1</td>\n",
       "      <td>0</td>\n",
       "      <td>0</td>\n",
       "      <td>0</td>\n",
       "    </tr>\n",
       "  </tbody>\n",
       "</table>\n",
       "<p>5 rows × 22 columns</p>\n",
       "</div>"
      ],
      "text/plain": [
       "   Age  Job  Credit amount  Duration  Purpose_car  \\\n",
       "0   67    2       7.063904         6            0   \n",
       "1   22    2       8.691315        48            0   \n",
       "2   49    1       7.647786        12            0   \n",
       "3   45    2       8.972337        42            0   \n",
       "4   53    2       8.490849        24            1   \n",
       "\n",
       "   Purpose_domestic appliances  Purpose_education  \\\n",
       "0                            0                  0   \n",
       "1                            0                  0   \n",
       "2                            0                  1   \n",
       "3                            0                  0   \n",
       "4                            0                  0   \n",
       "\n",
       "   Purpose_furniture/equipment  Purpose_radio/TV  Purpose_repairs  ...  \\\n",
       "0                            0                 1                0  ...   \n",
       "1                            0                 1                0  ...   \n",
       "2                            0                 0                0  ...   \n",
       "3                            1                 0                0  ...   \n",
       "4                            0                 0                0  ...   \n",
       "\n",
       "   Housing_own  Housing_rent  Savings_moderate  Savings_no_data  \\\n",
       "0            1             0                 0                1   \n",
       "1            1             0                 0                0   \n",
       "2            1             0                 0                0   \n",
       "3            0             0                 0                0   \n",
       "4            0             0                 0                0   \n",
       "\n",
       "   Savings_quite rich  Savings_rich  Risk_bad  Checking_moderate  \\\n",
       "0                   0             0         0                  0   \n",
       "1                   0             0         1                  1   \n",
       "2                   0             0         0                  0   \n",
       "3                   0             0         0                  0   \n",
       "4                   0             0         1                  0   \n",
       "\n",
       "   Checking_no_data  Checking_rich  \n",
       "0                 0              0  \n",
       "1                 0              0  \n",
       "2                 1              0  \n",
       "3                 0              0  \n",
       "4                 0              0  \n",
       "\n",
       "[5 rows x 22 columns]"
      ]
     },
     "execution_count": 10,
     "metadata": {},
     "output_type": "execute_result"
    }
   ],
   "source": [
    "# Scale credit amount by natural log function to smaller values\n",
    "\n",
    "credit_data['Credit amount'] = np.log(credit_data['Credit amount'])\n",
    "credit_data.head()"
   ]
  },
  {
   "cell_type": "markdown",
   "id": "fbcfef51",
   "metadata": {},
   "source": [
    "# Dzielenie danych na zbiory"
   ]
  },
  {
   "cell_type": "code",
   "execution_count": 11,
   "id": "163d1a77",
   "metadata": {},
   "outputs": [],
   "source": [
    "# Define X and y variables, use bad risk examples as y\n",
    "\n",
    "X = credit_data.drop('Risk_bad', axis = 1).values\n",
    "y = credit_data[\"Risk_bad\"].values"
   ]
  },
  {
   "cell_type": "markdown",
   "id": "d8200582",
   "metadata": {},
   "source": [
    "# Podział na zbiory uczące i testowe"
   ]
  },
  {
   "cell_type": "code",
   "execution_count": 12,
   "id": "967f0c4c",
   "metadata": {},
   "outputs": [],
   "source": [
    "from sklearn.model_selection import train_test_split\n",
    "\n",
    "# 80-20 data split between training and testing, set randomness\n",
    "X_train, X_test, y_train, y_test = train_test_split(X, y, test_size = 0.2, random_state=1)\n",
    "seed = 5"
   ]
  },
  {
   "cell_type": "markdown",
   "id": "f884c20f",
   "metadata": {},
   "source": [
    "# Nauka podstawowego modelu MLP"
   ]
  },
  {
   "cell_type": "code",
   "execution_count": 31,
   "id": "f4ed7f14",
   "metadata": {},
   "outputs": [
    {
     "name": "stderr",
     "output_type": "stream",
     "text": [
      "c:\\users\\mbagnsk\\desktop\\pendrive\\studiapendrive\\magisterka1\\iims\\aum\\lib\\site-packages\\sklearn\\neural_network\\_multilayer_perceptron.py:692: ConvergenceWarning: Stochastic Optimizer: Maximum iterations (200) reached and the optimization hasn't converged yet.\n",
      "  warnings.warn(\n"
     ]
    }
   ],
   "source": [
    "from sklearn.neural_network import MLPClassifier\n",
    "\n",
    "mlp = MLPClassifier()\n",
    "mlp.fit(X_train, y_train)\n",
    "y_predicted = mlp.predict(X_test)"
   ]
  },
  {
   "cell_type": "code",
   "execution_count": 32,
   "id": "912cbaa5",
   "metadata": {},
   "outputs": [
    {
     "name": "stdout",
     "output_type": "stream",
     "text": [
      "MLP Classifier Accuracy Score: 74.00%\n"
     ]
    }
   ],
   "source": [
    "mlp_score = mlp.score(X_test, y_test)\n",
    "print(\"MLP Classifier Accuracy Score: {:.2f}%\".format(mlp_score*100))"
   ]
  },
  {
   "cell_type": "code",
   "execution_count": 33,
   "id": "7ceacc1e",
   "metadata": {},
   "outputs": [
    {
     "data": {
      "text/plain": [
       "<AxesSubplot:>"
      ]
     },
     "execution_count": 33,
     "metadata": {},
     "output_type": "execute_result"
    },
    {
     "data": {
      "image/png": "[encoded data removed]",
      "text/plain": [
       "<Figure size 432x288 with 2 Axes>"
      ]
     },
     "metadata": {
      "needs_background": "light"
     },
     "output_type": "display_data"
    }
   ],
   "source": [
    "import seaborn as sns\n",
    "from sklearn.metrics import confusion_matrix\n",
    "\n",
    "matrix = confusion_matrix(y_predicted, y_test)\n",
    "values = np.unique(y_predicted)\n",
    "\n",
    "sns.heatmap(matrix, square=True, annot=True, fmt='d', cbar='False', xticklabels=values, yticklabels=values)"
   ]
  },
  {
   "cell_type": "code",
   "execution_count": 34,
   "id": "3f5571b4",
   "metadata": {},
   "outputs": [
    {
     "name": "stdout",
     "output_type": "stream",
     "text": [
      "Raport klasyfikacji:\n",
      "              precision    recall  f1-score   support\n",
      "\n",
      "           0       0.77      0.90      0.83       141\n",
      "           1       0.60      0.36      0.45        59\n",
      "\n",
      "    accuracy                           0.74       200\n",
      "   macro avg       0.68      0.63      0.64       200\n",
      "weighted avg       0.72      0.74      0.72       200\n",
      "\n"
     ]
    }
   ],
   "source": [
    "from sklearn.metrics import classification_report\n",
    "\n",
    "print('Raport klasyfikacji:')\n",
    "print(classification_report(y_test, y_predicted))"
   ]
  },
  {
   "cell_type": "markdown",
   "id": "54cc138e",
   "metadata": {},
   "source": [
    "# Polepszanie modelu "
   ]
  },
  {
   "cell_type": "code",
   "execution_count": null,
   "id": "fadb9062",
   "metadata": {},
   "outputs": [],
   "source": [
    "# grid search\n",
    "\n",
    "from sklearn.neural_network import MLPClassifier\n",
    "mlp_grid = MLPClassifier()\n",
    "\n",
    "parameter_space = {\n",
    "    'hidden_layer_sizes': [20, 40, 60, 80, 100],\n",
    "    'activation': ['tanh', 'relu'],\n",
    "    'solver': ['sgd', 'adam', 'lbfgs'],\n",
    "    'alpha': [0.0001, 0.05],\n",
    "    'learning_rate': ['constant','adaptive'],\n",
    "    'learning_rate_init': [0.1, 0.01, 0.001]\n",
    "}\n",
    "\n",
    "from sklearn.model_selection import GridSearchCV\n",
    "clf = GridSearchCV(mlp_grid, parameter_space, n_jobs=-1, cv=3)\n",
    "clf.fit(X_train, y_train)\n",
    "\n",
    "# Best paramete set\n",
    "print('Best parameters found:\\n', clf.best_params_)\n",
    "\n",
    "# All results\n",
    "means = clf.cv_results_['mean_test_score']\n",
    "stds = clf.cv_results_['std_test_score']\n",
    "# for mean, std, params in zip(means, stds, clf.cv_results_['params']):\n",
    "#     print(\"%0.3f (+/-%0.03f) for %r\" % (mean, std * 2, params))"
   ]
  },
  {
   "cell_type": "markdown",
   "id": "df1bf7c7",
   "metadata": {},
   "source": [
    "# Nauka ulepszonego modelu"
   ]
  },
  {
   "cell_type": "code",
   "execution_count": 47,
   "id": "993f0aab",
   "metadata": {},
   "outputs": [
    {
     "name": "stderr",
     "output_type": "stream",
     "text": [
      "c:\\users\\mbagnsk\\desktop\\pendrive\\studiapendrive\\magisterka1\\iims\\aum\\lib\\site-packages\\sklearn\\neural_network\\_multilayer_perceptron.py:549: ConvergenceWarning: lbfgs failed to converge (status=1):\n",
      "STOP: TOTAL NO. of ITERATIONS REACHED LIMIT.\n",
      "\n",
      "Increase the number of iterations (max_iter) or scale the data as shown in:\n",
      "    https://scikit-learn.org/stable/modules/preprocessing.html\n",
      "  self.n_iter_ = _check_optimize_result(\"lbfgs\", opt_res, self.max_iter)\n"
     ]
    }
   ],
   "source": [
    "# MLPClassifier + values indicated by GridSearch\n",
    "from sklearn.neural_network import MLPClassifier\n",
    "\n",
    "mlp_grid = MLPClassifier(activation='relu', alpha=0.0001, hidden_layer_sizes=20, max_iter = 100,\n",
    "                    learning_rate='constant', learning_rate_init=0.001,\n",
    "                    solver='lbfgs')\n",
    "mlp_grid.fit(X_train, y_train)\n",
    "\n",
    "y_grid_predicted = mlp_grid.predict(X_test)"
   ]
  },
  {
   "cell_type": "code",
   "execution_count": 48,
   "id": "8edd86a4",
   "metadata": {},
   "outputs": [
    {
     "name": "stdout",
     "output_type": "stream",
     "text": [
      "MLP Classifier Accuracy Score: 75.00%\n"
     ]
    }
   ],
   "source": [
    "mlp_grid_score = mlp_grid.score(X_test, y_test)\n",
    "print(\"MLP Classifier Accuracy Score: {:.2f}%\".format(mlp_grid_score*100))"
   ]
  },
  {
   "cell_type": "markdown",
   "id": "6ec14804",
   "metadata": {},
   "source": [
    "# Metryki dla polepszonego modelu"
   ]
  },
  {
   "cell_type": "code",
   "execution_count": 49,
   "id": "f3a5649b",
   "metadata": {},
   "outputs": [
    {
     "name": "stdout",
     "output_type": "stream",
     "text": [
      "Macierz konfuzji: \n"
     ]
    },
    {
     "data": {
      "text/plain": [
       "<AxesSubplot:>"
      ]
     },
     "execution_count": 49,
     "metadata": {},
     "output_type": "execute_result"
    },
    {
     "data": {
      "image/png": "[encoded data removed]",
      "text/plain": [
       "<Figure size 432x288 with 2 Axes>"
      ]
     },
     "metadata": {
      "needs_background": "light"
     },
     "output_type": "display_data"
    }
   ],
   "source": [
    "import seaborn as sns\n",
    "from sklearn.metrics import confusion_matrix\n",
    "\n",
    "matrix_grid = confusion_matrix(y_grid_predicted, y_test)\n",
    "values_grid = np.unique(y_grid_predicted)\n",
    "\n",
    "print('Macierz konfuzji: ')\n",
    "sns.heatmap(matrix_grid, square=True, annot=True, fmt='d', cbar='False', xticklabels=values_grid, yticklabels=values_grid)\n"
   ]
  },
  {
   "cell_type": "code",
   "execution_count": 50,
   "id": "9b0a7266",
   "metadata": {},
   "outputs": [
    {
     "name": "stdout",
     "output_type": "stream",
     "text": [
      "Raport klasyfikacji:\n",
      "              precision    recall  f1-score   support\n",
      "\n",
      "           0       0.79      0.89      0.83       141\n",
      "           1       0.61      0.42      0.50        59\n",
      "\n",
      "    accuracy                           0.75       200\n",
      "   macro avg       0.70      0.66      0.67       200\n",
      "weighted avg       0.73      0.75      0.73       200\n",
      "\n"
     ]
    }
   ],
   "source": [
    "from sklearn.metrics import classification_report\n",
    "\n",
    "print('Raport klasyfikacji:')\n",
    "print(classification_report(y_test, y_grid_predicted))"
   ]
  },
  {
   "cell_type": "markdown",
   "id": "b9a70c79",
   "metadata": {},
   "source": [
    "# Zestawienie wyników uzyskanych dla obu modeli"
   ]
  },
  {
   "cell_type": "code",
   "execution_count": 51,
   "id": "87bf24c8",
   "metadata": {},
   "outputs": [
    {
     "name": "stdout",
     "output_type": "stream",
     "text": [
      "MLP Classifier Accuracy Score: 74.00%\n",
      "MLP_Grid Classifier Accuracy Score: 75.00%\n"
     ]
    }
   ],
   "source": [
    "print(\"MLP Classifier Accuracy Score: {:.2f}%\".format(mlp_score*100))\n",
    "print(\"MLP_Grid Classifier Accuracy Score: {:.2f}%\".format(mlp_grid_score*100))"
   ]
  },
  {
   "cell_type": "code",
   "execution_count": 52,
   "id": "23ff6297",
   "metadata": {},
   "outputs": [
    {
     "name": "stdout",
     "output_type": "stream",
     "text": [
      "Macierz konfuzji MLP: \n"
     ]
    },
    {
     "data": {
      "text/plain": [
       "<AxesSubplot:>"
      ]
     },
     "execution_count": 52,
     "metadata": {},
     "output_type": "execute_result"
    },
    {
     "data": {
      "image/png": "[encoded data removed]",
      "text/plain": [
       "<Figure size 432x288 with 2 Axes>"
      ]
     },
     "metadata": {
      "needs_background": "light"
     },
     "output_type": "display_data"
    }
   ],
   "source": [
    "print('Macierz konfuzji MLP: ')\n",
    "sns.heatmap(matrix, square=True, annot=True, fmt='d', cbar='False', xticklabels=values, yticklabels=values)"
   ]
  },
  {
   "cell_type": "code",
   "execution_count": 53,
   "id": "bff78e27",
   "metadata": {},
   "outputs": [
    {
     "name": "stdout",
     "output_type": "stream",
     "text": [
      "Macierz konfuzji MLP_grid: \n"
     ]
    },
    {
     "data": {
      "text/plain": [
       "<AxesSubplot:>"
      ]
     },
     "execution_count": 53,
     "metadata": {},
     "output_type": "execute_result"
    },
    {
     "data": {
      "image/png": "[encoded data removed]",
      "text/plain": [
       "<Figure size 432x288 with 2 Axes>"
      ]
     },
     "metadata": {
      "needs_background": "light"
     },
     "output_type": "display_data"
    }
   ],
   "source": [
    "print('Macierz konfuzji MLP_grid: ')\n",
    "sns.heatmap(matrix_grid, square=True, annot=True, fmt='d', cbar='False', xticklabels=values_grid, yticklabels=values_grid)"
   ]
  },
  {
   "cell_type": "code",
   "execution_count": 54,
   "id": "28613379",
   "metadata": {},
   "outputs": [
    {
     "name": "stdout",
     "output_type": "stream",
     "text": [
      "Raport klasyfikacji MLP:\n",
      "              precision    recall  f1-score   support\n",
      "\n",
      "           0       0.77      0.90      0.83       141\n",
      "           1       0.60      0.36      0.45        59\n",
      "\n",
      "    accuracy                           0.74       200\n",
      "   macro avg       0.68      0.63      0.64       200\n",
      "weighted avg       0.72      0.74      0.72       200\n",
      "\n"
     ]
    }
   ],
   "source": [
    "print('Raport klasyfikacji MLP:')\n",
    "print(classification_report(y_test, y_predicted))"
   ]
  },
  {
   "cell_type": "code",
   "execution_count": 55,
   "id": "0ea21392",
   "metadata": {},
   "outputs": [
    {
     "name": "stdout",
     "output_type": "stream",
     "text": [
      "Raport klasyfikacji MLP Grid:\n",
      "              precision    recall  f1-score   support\n",
      "\n",
      "           0       0.79      0.89      0.83       141\n",
      "           1       0.61      0.42      0.50        59\n",
      "\n",
      "    accuracy                           0.75       200\n",
      "   macro avg       0.70      0.66      0.67       200\n",
      "weighted avg       0.73      0.75      0.73       200\n",
      "\n"
     ]
    }
   ],
   "source": [
    "print('Raport klasyfikacji MLP Grid:')\n",
    "print(classification_report(y_test, y_grid_predicted))"
   ]
  },
  {
   "cell_type": "markdown",
   "id": "021758f0",
   "metadata": {},
   "source": [
    "# Wizualizacja procesu uczenia"
   ]
  },
  {
   "cell_type": "code",
   "execution_count": 26,
   "id": "05255d9e",
   "metadata": {},
   "outputs": [],
   "source": [
    "from sklearn.model_selection import ShuffleSplit\n",
    "from sklearn.model_selection import learning_curve\n",
    "\n",
    "import numpy as np\n",
    "from matplotlib import pyplot as plt"
   ]
  },
  {
   "cell_type": "code",
   "execution_count": 27,
   "id": "2629d499",
   "metadata": {},
   "outputs": [],
   "source": [
    "def plot_learning_curve(\n",
    "    estimator,\n",
    "    title,\n",
    "    X,\n",
    "    y,\n",
    "    axes=None,\n",
    "    ylim=None,\n",
    "    cv=None,\n",
    "    n_jobs=None,\n",
    "    train_sizes=np.linspace(0.1, 1.0, 5),\n",
    "):\n",
    "    if axes is None:\n",
    "        _, axes = plt.subplots(1, 3, figsize=(20, 5))\n",
    "\n",
    "    axes[0].set_title(title)\n",
    "    if ylim is not None:\n",
    "        axes[0].set_ylim(*ylim)\n",
    "    axes[0].set_xlabel(\"Training examples\")\n",
    "    axes[0].set_ylabel(\"Score\")\n",
    "\n",
    "    train_sizes, train_scores, test_scores, fit_times, _ = learning_curve(\n",
    "        estimator,\n",
    "        X,\n",
    "        y,\n",
    "        cv=cv,\n",
    "        n_jobs=n_jobs,\n",
    "        train_sizes=train_sizes,\n",
    "        return_times=True,\n",
    "    )\n",
    "    train_scores_mean = np.mean(train_scores, axis=1)\n",
    "    train_scores_std = np.std(train_scores, axis=1)\n",
    "    test_scores_mean = np.mean(test_scores, axis=1)\n",
    "    test_scores_std = np.std(test_scores, axis=1)\n",
    "    fit_times_mean = np.mean(fit_times, axis=1)\n",
    "    fit_times_std = np.std(fit_times, axis=1)\n",
    "\n",
    "    # Plot learning curve\n",
    "    axes[0].grid()\n",
    "    axes[0].fill_between(\n",
    "        train_sizes,\n",
    "        train_scores_mean - train_scores_std,\n",
    "        train_scores_mean + train_scores_std,\n",
    "        alpha=0.1,\n",
    "        color=\"r\",\n",
    "    )\n",
    "    axes[0].fill_between(\n",
    "        train_sizes,\n",
    "        test_scores_mean - test_scores_std,\n",
    "        test_scores_mean + test_scores_std,\n",
    "        alpha=0.1,\n",
    "        color=\"g\",\n",
    "    )\n",
    "    axes[0].plot(\n",
    "        train_sizes, train_scores_mean, \"o-\", color=\"r\", label=\"Training score\"\n",
    "    )\n",
    "    axes[0].plot(\n",
    "        train_sizes, test_scores_mean, \"o-\", color=\"g\", label=\"Cross-validation score\"\n",
    "    )\n",
    "    axes[0].legend(loc=\"best\")\n",
    "\n",
    "    # Plot n_samples vs fit_times\n",
    "    axes[1].grid()\n",
    "    axes[1].plot(train_sizes, fit_times_mean, \"o-\")\n",
    "    axes[1].fill_between(\n",
    "        train_sizes,\n",
    "        fit_times_mean - fit_times_std,\n",
    "        fit_times_mean + fit_times_std,\n",
    "        alpha=0.1,\n",
    "    )\n",
    "    axes[1].set_xlabel(\"Training examples\")\n",
    "    axes[1].set_ylabel(\"fit_times\")\n",
    "    axes[1].set_title(\"Scalability of the model\")\n",
    "\n",
    "    # Plot fit_time vs score\n",
    "    fit_time_argsort = fit_times_mean.argsort()\n",
    "    fit_time_sorted = fit_times_mean[fit_time_argsort]\n",
    "    test_scores_mean_sorted = test_scores_mean[fit_time_argsort]\n",
    "    test_scores_std_sorted = test_scores_std[fit_time_argsort]\n",
    "    axes[2].grid()\n",
    "    axes[2].plot(fit_time_sorted, test_scores_mean_sorted, \"o-\")\n",
    "    axes[2].fill_between(\n",
    "        fit_time_sorted,\n",
    "        test_scores_mean_sorted - test_scores_std_sorted,\n",
    "        test_scores_mean_sorted + test_scores_std_sorted,\n",
    "        alpha=0.1,\n",
    "    )\n",
    "    axes[2].set_xlabel(\"fit_times\")\n",
    "    axes[2].set_ylabel(\"Score\")\n",
    "    axes[2].set_title(\"Performance of the model\")\n",
    "\n",
    "    return plt"
   ]
  },
  {
   "cell_type": "code",
   "execution_count": 28,
   "id": "001e4bab",
   "metadata": {},
   "outputs": [
    {
     "data": {
      "text/plain": [
       "<module 'matplotlib.pyplot' from 'c:\\\\users\\\\mbagnsk\\\\desktop\\\\pendrive\\\\studiapendrive\\\\magisterka1\\\\iims\\\\aum\\\\lib\\\\site-packages\\\\matplotlib\\\\pyplot.py'>"
      ]
     },
     "execution_count": 28,
     "metadata": {},
     "output_type": "execute_result"
    },
    {
     "data": {
      "image/png": "[encoded data removed]",
      "text/plain": [
       "<Figure size 1440x360 with 3 Axes>"
      ]
     },
     "metadata": {
      "needs_background": "light"
     },
     "output_type": "display_data"
    }
   ],
   "source": [
    "cv = ShuffleSplit(n_splits = 50, test_size = 0.2, random_state = 0)\n",
    "plot_learning_curve(mlp_grid, 'Learning curves', X, y, axes=None, cv=cv, n_jobs=6)"
   ]
  }
 ],
 "metadata": {
  "kernelspec": {
   "display_name": "Python 3 (ipykernel)",
   "language": "python",
   "name": "python3"
  },
  "language_info": {
   "codemirror_mode": {
    "name": "ipython",
    "version": 3
   },
   "file_extension": ".py",
   "mimetype": "text/x-python",
   "name": "python",
   "nbconvert_exporter": "python",
   "pygments_lexer": "ipython3",
   "version": "3.9.2"
  }
 },
 "nbformat": 4,
 "nbformat_minor": 5
}
